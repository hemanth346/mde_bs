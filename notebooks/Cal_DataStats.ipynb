{
  "nbformat": 4,
  "nbformat_minor": 0,
  "metadata": {
    "kernelspec": {
      "display_name": "Python 3.6.10 64-bit ('tf_gpu': conda)",
      "language": "python",
      "name": "python361064bittfgpucondacca2d98054a2467483838f13e7ec1fd4"
    },
    "language_info": {
      "codemirror_mode": {
        "name": "ipython",
        "version": 3
      },
      "file_extension": ".py",
      "mimetype": "text/x-python",
      "name": "python",
      "nbconvert_exporter": "python",
      "pygments_lexer": "ipython3",
      "version": "3.6.10"
    },
    "toc": {
      "base_numbering": 1,
      "nav_menu": {},
      "number_sections": true,
      "sideBar": true,
      "skip_h1_title": false,
      "title_cell": "Table of Contents",
      "title_sidebar": "Contents",
      "toc_cell": false,
      "toc_position": {},
      "toc_section_display": true,
      "toc_window_display": false
    },
    "varInspector": {
      "cols": {
        "lenName": 16,
        "lenType": 16,
        "lenVar": 40
      },
      "kernels_config": {
        "python": {
          "delete_cmd_postfix": "",
          "delete_cmd_prefix": "del ",
          "library": "var_list.py",
          "varRefreshCmd": "print(var_dic_list())"
        },
        "r": {
          "delete_cmd_postfix": ") ",
          "delete_cmd_prefix": "rm(",
          "library": "var_list.r",
          "varRefreshCmd": "cat(var_dic_list()) "
        }
      },
      "types_to_exclude": [
        "module",
        "function",
        "builtin_function_or_method",
        "instance",
        "_Feature"
      ],
      "window_display": false
    },
    "colab": {
      "name": "Cal_DataStats.ipynb",
      "provenance": [],
      "include_colab_link": true
    }
  },
  "cells": [
    {
      "cell_type": "markdown",
      "metadata": {
        "id": "view-in-github",
        "colab_type": "text"
      },
      "source": [
        "<a href=\"https://colab.research.google.com/github/hemanth346/mde_bs/blob/master/notebooks/Cal_DataStats.ipynb\" target=\"_parent\"><img src=\"https://colab.research.google.com/assets/colab-badge.svg\" alt=\"Open In Colab\"/></a>"
      ]
    },
    {
      "cell_type": "code",
      "metadata": {
        "ExecuteTime": {
          "end_time": "2020-06-01T10:34:49.560091Z",
          "start_time": "2020-06-01T10:34:48.750160Z"
        },
        "id": "_6oPXVxYPCb7",
        "colab_type": "code",
        "colab": {}
      },
      "source": [
        "import os\n",
        "import cv2\n",
        "import numpy as np\n",
        "from pathlib import Path\n",
        "import zipfile\n",
        "from PIL import Image\n",
        "import io\n",
        "import matplotlib.pyplot as plt"
      ],
      "execution_count": 0,
      "outputs": []
    },
    {
      "cell_type": "code",
      "metadata": {
        "ExecuteTime": {
          "end_time": "2020-06-01T10:34:49.596100Z",
          "start_time": "2020-06-01T10:34:49.584052Z"
        },
        "id": "Xe4IbcESPCcF",
        "colab_type": "code",
        "colab": {}
      },
      "source": [
        "root_dir = '/content/drive/My Drive/DL/mask_depthmap_data/Compressed_Dataset'\n",
        "\n",
        "bg_dir = Path(root_dir+'/bg')\n",
        "fg_dir = Path(root_dir+'/fg')\n",
        "fg_masks_dir = Path(root_dir+'/fg_masks')\n",
        "fg_bg_dir = Path(root_dir+'/fg_bg')\n",
        "mask_dir = Path(root_dir+'/fg_bg_masks')\n",
        "depth_dir = Path(root_dir+'/depth_maps')"
      ],
      "execution_count": 0,
      "outputs": []
    },
    {
      "cell_type": "code",
      "metadata": {
        "ExecuteTime": {
          "end_time": "2020-06-01T10:34:50.065963Z",
          "start_time": "2020-06-01T10:34:50.049607Z"
        },
        "id": "LZX56tAvPCcM",
        "colab_type": "code",
        "colab": {},
        "outputId": "4a564093-ce7c-4a9f-a1ce-98cdecc01e8f"
      },
      "source": [
        "fg_bg_dir, mask_dir, depth_dir"
      ],
      "execution_count": 0,
      "outputs": [
        {
          "output_type": "execute_result",
          "data": {
            "text/plain": [
              "(WindowsPath('/content/drive/My Drive/DL/mask_depthmap_data/Compressed_Dataset/fg_bg'),\n",
              " WindowsPath('/content/drive/My Drive/DL/mask_depthmap_data/Compressed_Dataset/fg_bg_masks'),\n",
              " WindowsPath('/content/drive/My Drive/DL/mask_depthmap_data/Compressed_Dataset/depth_maps'))"
            ]
          },
          "metadata": {
            "tags": []
          },
          "execution_count": 4
        }
      ]
    },
    {
      "cell_type": "code",
      "metadata": {
        "ExecuteTime": {
          "end_time": "2020-05-23T16:20:16.026908Z",
          "start_time": "2020-05-23T16:20:13.122535Z"
        },
        "id": "PCEWUHNlPCcU",
        "colab_type": "code",
        "colab": {}
      },
      "source": [
        "import torch\n",
        "import torchvision\n",
        "from torch.utils.data import DataLoader, Dataset\n",
        "from torchvision.transforms import transforms"
      ],
      "execution_count": 0,
      "outputs": []
    },
    {
      "cell_type": "code",
      "metadata": {
        "ExecuteTime": {
          "end_time": "2020-05-23T16:38:38.136021Z",
          "start_time": "2020-05-23T16:38:38.130034Z"
        },
        "id": "7dkWCwp5PCcZ",
        "colab_type": "code",
        "colab": {}
      },
      "source": [
        "class FolderData(Dataset):\n",
        "    def __init__(self, data_dir, suffix='', size=224):\n",
        "        pattern = '*'\n",
        "        if suffix:\n",
        "            pattern = '*.'+suffix\n",
        "        self.files = list(data_dir.rglob(pattern))\n",
        "        self.transform = transforms.Compose([\n",
        "            transforms.Resize((size, size)),\n",
        "            transforms.ToTensor()\n",
        "        ])\n",
        "    def __len__(self):\n",
        "        return len(self.files)\n",
        "    \n",
        "    def __getitem__(self, index):\n",
        "        img = Image.open(self.files[index])\n",
        "        img = img.convert(\"RGB\")\n",
        "        return self.transform(img)"
      ],
      "execution_count": 0,
      "outputs": []
    },
    {
      "cell_type": "code",
      "metadata": {
        "ExecuteTime": {
          "end_time": "2020-05-23T16:40:44.504712Z",
          "start_time": "2020-05-23T16:40:44.495737Z"
        },
        "id": "zAjQvtyiPCcf",
        "colab_type": "code",
        "colab": {}
      },
      "source": [
        "class ZipData(Dataset):\n",
        "    def __init__(self, data_dir, size=224):\n",
        "        self.paths = []\n",
        "        for file in os.listdir(data_dir):\n",
        "            fname = os.path.join(Path(data_dir, file))\n",
        "            if zipfile.is_zipfile(fname):\n",
        "                self.paths += [x.filename for x in zipfile.ZipFile(fname).infolist()]\n",
        "        self.data_dir = data_dir\n",
        "        self.transform = transforms.Compose([\n",
        "            transforms.Resize((size, size)),\n",
        "            transforms.ToTensor()\n",
        "        ])\n",
        "\n",
        "    def read_img_from_zip(self, zip_name, file_name, array=True):\n",
        "        imgdata = zipfile.ZipFile(zip_name).read(file_name)\n",
        "        img = Image.open(io.BytesIO(imgdata))\n",
        "        # img = img.convert(\"RGB\")\n",
        "        if array:\n",
        "            img = np.array(img)\n",
        "            return img\n",
        "        # PIL image\n",
        "        return img \n",
        "    \n",
        "    def __len__(self):\n",
        "        return len(self.paths)\n",
        "    \n",
        "    def __getitem__(self, index):\n",
        "        bg = self.paths[index].split('_')[0]\n",
        "        img = self.read_img_from_zip(os.path.join(self.data_dir, bg+'.zip'), self.paths[index], array=False) \n",
        "        return self.transform(img)"
      ],
      "execution_count": 0,
      "outputs": []
    },
    {
      "cell_type": "code",
      "metadata": {
        "ExecuteTime": {
          "end_time": "2020-05-23T16:20:21.515082Z",
          "start_time": "2020-05-23T16:20:21.318289Z"
        },
        "id": "jzEURoLWPCcl",
        "colab_type": "code",
        "colab": {}
      },
      "source": [
        "# even though we are iterating two times the values will be accurate here\n",
        "# and since this is one time process, the computation can be ignored\n",
        "\n",
        "# Other approach is to calculate the standard deviation by averaging samples of the sd from mini batches. \n",
        "# While very close to the true sd, it’s not calculated exactly and can be leveraged if time/computation limitations\n",
        "\n",
        "def get_mean(dataset, batch_size=50):\n",
        "    mean = 0.0\n",
        "    loader = DataLoader(dataset, \n",
        "                      batch_size=batch_size, \n",
        "                      shuffle=True)\n",
        "    for images in loader:\n",
        "        batch_size = images.size(0) \n",
        "        images = images.view(batch_size, images.size(1), -1)\n",
        "        mean += images.mean(2).sum(0)\n",
        "    mean = mean / len(loader.dataset)\n",
        "    return mean\n",
        "\n",
        "def get_std(dataset, mean, batch_size=50):\n",
        "    var = 0.0\n",
        "    loader = DataLoader(dataset, \n",
        "                      batch_size=batch_size, \n",
        "                      shuffle=True)\n",
        "    for images in loader:\n",
        "        batch_samples = images.size(0)\n",
        "        # convert into 3 flattened channels\n",
        "        images = images.view(batch_samples, images.size(1), -1)\n",
        "        # take mean for each of these channels, substract from image channels\n",
        "        # square them and add across channels to get variance\n",
        "        var += ((images - mean.unsqueeze(1))**2).sum([0,2])\n",
        "    # square root over total pixels\n",
        "    std = torch.sqrt(var / (len(dataset)*dataset[0].shape[1]*dataset[0].shape[2]))\n",
        "    return std"
      ],
      "execution_count": 0,
      "outputs": []
    },
    {
      "cell_type": "code",
      "metadata": {
        "ExecuteTime": {
          "end_time": "2020-05-23T16:21:06.065384Z",
          "start_time": "2020-05-23T16:21:06.061422Z"
        },
        "id": "eWp87tCkPCcq",
        "colab_type": "code",
        "colab": {}
      },
      "source": [
        "stats = open('datastats.txt', 'w')"
      ],
      "execution_count": 0,
      "outputs": []
    },
    {
      "cell_type": "code",
      "metadata": {
        "ExecuteTime": {
          "end_time": "2020-05-23T16:33:10.575832Z",
          "start_time": "2020-05-23T16:33:09.615456Z"
        },
        "id": "SmMvA_7QPCct",
        "colab_type": "code",
        "colab": {},
        "outputId": "9af90a98-1077-46a8-e95d-c37ffa73b15b"
      },
      "source": [
        "# jp = [x for x in os.listdir(bg_dir) if not x.endswith('jpg')]\n",
        "# for f in jp:\n",
        "#     img = Image.open(os.path.join(bg_dir, f))\n",
        "#     img = img.convert(\"RGB\")\n",
        "#     print(f, f.split('.')[0]+'.jpg')\n",
        "#     img.save(os.path.join(bg_dir, f.split('.')[0]+'.jpg'))"
      ],
      "execution_count": 0,
      "outputs": [
        {
          "output_type": "stream",
          "text": [
            "office63.jpeg office63.jpg\n",
            "office69.gif office69.jpg\n",
            "office70.png office70.jpg\n",
            "office75.png office75.jpg\n",
            "office76.png office76.jpg\n",
            "office80.jpeg office80.jpg\n",
            "office89.jpeg office89.jpg\n",
            "office91.jpeg office91.jpg\n"
          ],
          "name": "stdout"
        }
      ]
    },
    {
      "cell_type": "code",
      "metadata": {
        "ExecuteTime": {
          "end_time": "2020-05-23T16:34:35.683924Z",
          "start_time": "2020-05-23T16:34:35.677938Z"
        },
        "id": "LpktIQthPCcy",
        "colab_type": "code",
        "colab": {},
        "outputId": "8fda4cae-7a36-43ce-e734-29b76ed2adb8"
      },
      "source": [
        "# [os.remove(os.path.join(bg_dir, x)) for x in os.listdir(bg_dir) if not x.endswith('jpg')]\n",
        "# [x for x in os.listdir(bg_dir) if not x.endswith('jpg')]"
      ],
      "execution_count": 0,
      "outputs": [
        {
          "output_type": "execute_result",
          "data": {
            "text/plain": [
              "[]"
            ]
          },
          "metadata": {
            "tags": []
          },
          "execution_count": 26
        }
      ]
    },
    {
      "cell_type": "code",
      "metadata": {
        "id": "AjSUxz0fPCc2",
        "colab_type": "code",
        "colab": {}
      },
      "source": [
        "stats.write('mean\\t\\tstd')"
      ],
      "execution_count": 0,
      "outputs": []
    },
    {
      "cell_type": "code",
      "metadata": {
        "ExecuteTime": {
          "end_time": "2020-05-23T16:36:59.202253Z",
          "start_time": "2020-05-23T16:36:56.972251Z"
        },
        "id": "PuOoZAYxPCc7",
        "colab_type": "code",
        "colab": {},
        "outputId": "09248c63-fcf4-4f18-87ca-f91678f945e1"
      },
      "source": [
        "dataset = FolderData(bg_dir, suffix='jpg')\n",
        "mean = get_mean(dataset)\n",
        "std = get_std(dataset, mean)\n",
        "stats.write(f'BG : mean - {mean} ; std - {std}')\n",
        "print(mean, std)"
      ],
      "execution_count": 0,
      "outputs": [
        {
          "output_type": "stream",
          "text": [
            "tensor([0.5868, 0.5753, 0.5547]) tensor([0.2566, 0.2563, 0.2631])\n"
          ],
          "name": "stdout"
        }
      ]
    },
    {
      "cell_type": "code",
      "metadata": {
        "ExecuteTime": {
          "end_time": "2020-05-23T16:39:00.654620Z",
          "start_time": "2020-05-23T16:38:53.336537Z"
        },
        "id": "JDLFIGh2PCdA",
        "colab_type": "code",
        "colab": {},
        "outputId": "02c37a59-afb7-4e41-e37c-c71e86d16bfa"
      },
      "source": [
        "dataset = FolderData(fg_dir, suffix='png')\n",
        "mean = get_mean(dataset)\n",
        "std = get_std(dataset, mean)\n",
        "print(mean, std)\n",
        "stats.write(f'FG : mean - {mean} ; std - {std}')"
      ],
      "execution_count": 0,
      "outputs": [
        {
          "output_type": "stream",
          "text": [
            "tensor([0.4965, 0.4817, 0.4846]) tensor([0.4152, 0.4059, 0.4015])\n"
          ],
          "name": "stdout"
        },
        {
          "output_type": "execute_result",
          "data": {
            "text/plain": [
              "85"
            ]
          },
          "metadata": {
            "tags": []
          },
          "execution_count": 31
        }
      ]
    },
    {
      "cell_type": "code",
      "metadata": {
        "ExecuteTime": {
          "end_time": "2020-05-23T16:39:27.738857Z",
          "start_time": "2020-05-23T16:39:24.940347Z"
        },
        "id": "gS4daSsqPCdE",
        "colab_type": "code",
        "colab": {},
        "outputId": "f934f332-21e4-4375-d530-8baf4cc3f281"
      },
      "source": [
        "dataset = FolderData(fg_masks_dir, suffix='png')\n",
        "mean = get_mean(dataset)\n",
        "std = get_std(dataset, mean)\n",
        "print(mean, std)\n",
        "stats.write(f'FG masks: mean - {mean} ; std - {std}')"
      ],
      "execution_count": 0,
      "outputs": [
        {
          "output_type": "stream",
          "text": [
            "tensor([0.4190, 0.4190, 0.4190]) tensor([0.4883, 0.4883, 0.4883])\n"
          ],
          "name": "stdout"
        },
        {
          "output_type": "execute_result",
          "data": {
            "text/plain": [
              "90"
            ]
          },
          "metadata": {
            "tags": []
          },
          "execution_count": 32
        }
      ]
    },
    {
      "cell_type": "code",
      "metadata": {
        "ExecuteTime": {
          "end_time": "2020-05-23T16:56:03.167464Z",
          "start_time": "2020-05-23T16:40:57.305681Z"
        },
        "id": "xO8oAi-kPCdJ",
        "colab_type": "code",
        "colab": {},
        "outputId": "e4180311-90c4-4f52-d14f-6d8be2d03a21"
      },
      "source": [
        "dataset = ZipData(data_dir=fg_bg_dir)\n",
        "\n",
        "mean = get_mean(dataset)\n",
        "std = get_std(dataset, mean)\n",
        "print(mean, std)\n",
        "stats.write(f'FG_BG : mean - {mean} ; std - {std}')"
      ],
      "execution_count": 0,
      "outputs": [
        {
          "output_type": "stream",
          "text": [
            "tensor([0.6045, 0.5874, 0.5730]) tensor([0.2815, 0.2813, 0.2814])\n"
          ],
          "name": "stdout"
        },
        {
          "output_type": "execute_result",
          "data": {
            "text/plain": [
              "88"
            ]
          },
          "metadata": {
            "tags": []
          },
          "execution_count": 36
        }
      ]
    },
    {
      "cell_type": "code",
      "metadata": {
        "ExecuteTime": {
          "end_time": "2020-05-23T17:10:06.444907Z",
          "start_time": "2020-05-23T16:56:03.187377Z"
        },
        "id": "F_RE65mLPCdN",
        "colab_type": "code",
        "colab": {},
        "outputId": "03687ea8-e3d1-414d-f736-9c4ad2c83191"
      },
      "source": [
        "dataset = ZipData(data_dir=mask_dir)\n",
        "\n",
        "mean = get_mean(dataset)\n",
        "std = get_std(dataset, mean)\n",
        "print(mean, std)\n",
        "stats.write(f'FG_BG_Masks : mean - {mean} ; std - {std}')"
      ],
      "execution_count": 0,
      "outputs": [
        {
          "output_type": "stream",
          "text": [
            "tensor([0.0563]) tensor([0.2252])\n"
          ],
          "name": "stdout"
        },
        {
          "output_type": "execute_result",
          "data": {
            "text/plain": [
              "62"
            ]
          },
          "metadata": {
            "tags": []
          },
          "execution_count": 37
        }
      ]
    },
    {
      "cell_type": "code",
      "metadata": {
        "ExecuteTime": {
          "end_time": "2020-05-23T17:23:40.235583Z",
          "start_time": "2020-05-23T17:10:06.460864Z"
        },
        "id": "tOVJhwhQPCdR",
        "colab_type": "code",
        "colab": {},
        "outputId": "2311656e-3d98-4701-cfcf-9fa4522ba921"
      },
      "source": [
        "dataset = ZipData(data_dir=mask_dir)\n",
        "\n",
        "mean = get_mean(dataset)\n",
        "std = get_std(dataset, mean)\n",
        "print(mean, std)\n",
        "stats.write(f'Depth_maps : mean - {mean} ; std - {std}')"
      ],
      "execution_count": 0,
      "outputs": [
        {
          "output_type": "stream",
          "text": [
            "tensor([0.3743]) tensor([0.1962])\n"
          ],
          "name": "stdout"
        },
        {
          "output_type": "execute_result",
          "data": {
            "text/plain": [
              "61"
            ]
          },
          "metadata": {
            "tags": []
          },
          "execution_count": 38
        }
      ]
    },
    {
      "cell_type": "code",
      "metadata": {
        "ExecuteTime": {
          "end_time": "2020-05-23T17:25:03.873154Z",
          "start_time": "2020-05-23T17:25:03.869196Z"
        },
        "id": "b_x65Cp5PCdU",
        "colab_type": "code",
        "colab": {}
      },
      "source": [
        "stats.close()"
      ],
      "execution_count": 0,
      "outputs": []
    },
    {
      "cell_type": "code",
      "metadata": {
        "id": "QCAjhCRZPCdY",
        "colab_type": "code",
        "colab": {}
      },
      "source": [
        ""
      ],
      "execution_count": 0,
      "outputs": []
    }
  ]
}